{
 "cells": [
  {
   "cell_type": "code",
   "execution_count": 1,
   "id": "78e062ab",
   "metadata": {},
   "outputs": [],
   "source": [
    "# EE559 Homework #4\n",
    "# Author: Creed Reilly\n",
    "# USC ID: 6721694310\n",
    "# Date: 06/29/2021"
   ]
  },
  {
   "cell_type": "code",
   "execution_count": 3,
   "id": "cd130e5d",
   "metadata": {},
   "outputs": [],
   "source": [
    "# Import Data Packages\n",
    "import numpy as np\n",
    "import pandas as pd\n",
    "import matplotlib.pyplot as plt"
   ]
  },
  {
   "cell_type": "code",
   "execution_count": 4,
   "id": "84ae104c",
   "metadata": {},
   "outputs": [],
   "source": [
    "# Question 7"
   ]
  },
  {
   "cell_type": "code",
   "execution_count": 5,
   "id": "c274dad3",
   "metadata": {},
   "outputs": [],
   "source": [
    "# Part A - Download the Data\n",
    "\n",
    "# Data located in '../data'"
   ]
  },
  {
   "cell_type": "code",
   "execution_count": 91,
   "id": "8949851d",
   "metadata": {},
   "outputs": [],
   "source": [
    "# Part B - Segregate training and test data\n",
    "\n",
    "bending1 = pd.DataFrame(); # 0\n",
    "bending2 = pd.DataFrame(); # 1\n",
    "cycling = pd.DataFrame();  # 2\n",
    "lying = pd.DataFrame();    # 3\n",
    "sitting = pd.DataFrame();  # 4\n",
    "standing = pd.DataFrame(); # 5\n",
    "walking = pd.DataFrame();  # 6\n",
    "testData = pd.DataFrame(); # 7\n",
    "\n",
    "trainingData = np.zeros([480,7]);\n",
    "\n",
    "#trainingData[:,:,0] = np.array(pd.read_csv(title,skiprows = 4, usecols = [0,1,2,3,4,5,6]))\n",
    "\n",
    "# READ IN TRAINING DATA\n",
    "\n",
    "# Read in bending1 data\n",
    "counter = np.arange(5)+3; # keep the 1st 2 sets as test sets\n",
    "for i in counter: \n",
    "    title = '../data/bending1/dataset' + str(i) + '.csv'; # create title for reading in file\n",
    "    bending1 = bending1.append(pd.read_csv(title,skiprows = 4, usecols = [0,1,2,3,4,5,6]),ignore_index=True)\n",
    "    trainingData = np.dstack((trainingData,np.array(pd.read_csv(title,skiprows = 4, usecols = [0,1,2,3,4,5,6]))))\n",
    "    \n",
    "# Read in bending2 data\n",
    "counter = np.arange(4)+3; # keep the 1st 2 sets as test sets\n",
    "for i in counter: \n",
    "    title = '../data/bending2/dataset' + str(i) + '.csv'; # create title for reading in file\n",
    "    bending2 = bending2.append(pd.read_csv(title,skiprows = 4, usecols = [0,1,2,3,4,5,6]),ignore_index=True)\n",
    "    trainingData = np.dstack((trainingData,np.array(pd.read_csv(title,skiprows = 4, usecols = [0,1,2,3,4,5,6]))))\n",
    "    \n",
    "    \n",
    "# Read in cycling, lying, sitting, standing, walking data\n",
    "counter = np.arange(12)+4; # keep the 1st 3 sets as test sets\n",
    "for i in counter: \n",
    "    title = '../data/cycling/dataset' + str(i) + '.csv'; # create title for reading in file\n",
    "    cycling = cycling.append(pd.read_csv(title,skiprows = 4, usecols = [0,1,2,3,4,5,6]),ignore_index=True)\n",
    "    trainingData = np.dstack((trainingData,np.array(pd.read_csv(title,skiprows = 4, usecols = [0,1,2,3,4,5,6]))))\n",
    "    \n",
    "    title = '../data/lying/dataset' + str(i) + '.csv'; # create title for reading in file\n",
    "    lying = lying.append(pd.read_csv(title,skiprows = 4, usecols = [0,1,2,3,4,5,6]),ignore_index=True)\n",
    "    trainingData = np.dstack((trainingData,np.array(pd.read_csv(title,skiprows = 4, usecols = [0,1,2,3,4,5,6]))))\n",
    "\n",
    "    title = '../data/sitting/dataset' + str(i) + '.csv'; # create title for reading in file\n",
    "    sitting = sitting.append(pd.read_csv(title,skiprows = 4, usecols = [0,1,2,3,4,5,6]),ignore_index=True)\n",
    "    trainingData = np.dstack((trainingData,np.array(pd.read_csv(title,skiprows = 4, usecols = [0,1,2,3,4,5,6]))))\n",
    "\n",
    "    title = '../data/standing/dataset' + str(i) + '.csv'; # create title for reading in file\n",
    "    standing = standing.append(pd.read_csv(title,skiprows = 4, usecols = [0,1,2,3,4,5,6]),ignore_index=True)\n",
    "    trainingData = np.dstack((trainingData,np.array(pd.read_csv(title,skiprows = 4, usecols = [0,1,2,3,4,5,6]))))\n",
    "\n",
    "    title = '../data/walking/dataset' + str(i) + '.csv'; # create title for reading in file\n",
    "    walking = walking.append(pd.read_csv(title,skiprows = 4, usecols = [0,1,2,3,4,5,6]),ignore_index=True)\n",
    "    trainingData = np.dstack((trainingData,np.array(pd.read_csv(title,skiprows = 4, usecols = [0,1,2,3,4,5,6]))))\n",
    "\n",
    "\n",
    "# READ IN TEST DATA\n",
    "\n",
    "# Read in bending1 data\n",
    "counter = np.arange(2)+1;\n",
    "for i in counter: \n",
    "    title = '../data/bending1/dataset' + str(i) + '.csv'; # create title for reading in file\n",
    "    testData = testData.append(pd.read_csv(title,skiprows = 4, usecols = [0,1,2,3,4,5,6]),ignore_index=True)\n",
    "\n",
    "# Read in bending2 data\n",
    "counter = np.arange(2)+1;\n",
    "for i in counter: \n",
    "    title = '../data/bending2/dataset' + str(i) + '.csv'; # create title for reading in file\n",
    "    testData = testData.append(pd.read_csv(title,skiprows = 4, usecols = [0,1,2,3,4,5,6]),ignore_index=True)\n",
    "    \n",
    "# Read in cycling, lying, sitting, standing, walking data\n",
    "counter = np.arange(3)+1;\n",
    "for i in counter: \n",
    "    title = '../data/cycling/dataset' + str(i) + '.csv'; # create title for reading in file\n",
    "    testData = testData.append(pd.read_csv(title,skiprows = 4, usecols = [0,1,2,3,4,5,6]),ignore_index=True)\n",
    "    \n",
    "    title = '../data/lying/dataset' + str(i) + '.csv'; # create title for reading in file\n",
    "    testData = testData.append(pd.read_csv(title,skiprows = 4, usecols = [0,1,2,3,4,5,6]),ignore_index=True)\n",
    "    \n",
    "    title = '../data/sitting/dataset' + str(i) + '.csv'; # create title for reading in file\n",
    "    testData = testData.append(pd.read_csv(title,skiprows = 4, usecols = [0,1,2,3,4,5,6]),ignore_index=True)\n",
    "    \n",
    "    title = '../data/standing/dataset' + str(i) + '.csv'; # create title for reading in file\n",
    "    testData = testData.append(pd.read_csv(title,skiprows = 4, usecols = [0,1,2,3,4,5,6]),ignore_index=True)\n",
    "    \n",
    "    title = '../data/walking/dataset' + str(i) + '.csv'; # create title for reading in file\n",
    "    testData = testData.append(pd.read_csv(title,skiprows = 4, usecols = [0,1,2,3,4,5,6]),ignore_index=True)\n"
   ]
  },
  {
   "cell_type": "code",
   "execution_count": 92,
   "id": "aa5ab725",
   "metadata": {},
   "outputs": [
    {
     "data": {
      "text/plain": [
       "(480, 7, 6)"
      ]
     },
     "execution_count": 92,
     "metadata": {},
     "output_type": "execute_result"
    }
   ],
   "source": [
    "# Put training data into a single np.array\n",
    "\n",
    "trainingData.shape\n"
   ]
  },
  {
   "cell_type": "code",
   "execution_count": 60,
   "id": "a43346fc",
   "metadata": {},
   "outputs": [],
   "source": [
    "# Part C - Feature Extraction\n",
    "\n",
    "# Part Ci: List time-domain features used in time-series classification. They include:\n",
    "#     mean, minimum, maximum, std dev, skewness, kurtosis\n",
    "\n",
    "# Part Cii: Extract minimum, maximum, mean, median, std dev, 1st quartile, 3rd quartile, for all 6 time series\n",
    "n = 88; # number of instances\n",
    "featureExtraction = np.zeros([n,7*6+1])\n",
    "\n",
    "for i in np.arange(n):\n",
    "    featureExtraction[i,0] = i+1; # define instance number"
   ]
  },
  {
   "cell_type": "code",
   "execution_count": 61,
   "id": "77a1843f",
   "metadata": {},
   "outputs": [
    {
     "data": {
      "text/plain": [
       "array([ 1.,  2.,  3.,  4.,  5.,  6.,  7.,  8.,  9., 10., 11., 12., 13.,\n",
       "       14., 15., 16., 17., 18., 19., 20., 21., 22., 23., 24., 25., 26.,\n",
       "       27., 28., 29., 30., 31., 32., 33., 34., 35., 36., 37., 38., 39.,\n",
       "       40., 41., 42., 43., 44., 45., 46., 47., 48., 49., 50., 51., 52.,\n",
       "       53., 54., 55., 56., 57., 58., 59., 60., 61., 62., 63., 64., 65.,\n",
       "       66., 67., 68., 69., 70., 71., 72., 73., 74., 75., 76., 77., 78.,\n",
       "       79., 80., 81., 82., 83., 84., 85., 86., 87., 88.])"
      ]
     },
     "execution_count": 61,
     "metadata": {},
     "output_type": "execute_result"
    }
   ],
   "source": [
    "featureExtraction[:,0]"
   ]
  },
  {
   "cell_type": "code",
   "execution_count": 84,
   "id": "f8fea406",
   "metadata": {},
   "outputs": [
    {
     "data": {
      "text/html": [
       "<div>\n",
       "<style scoped>\n",
       "    .dataframe tbody tr th:only-of-type {\n",
       "        vertical-align: middle;\n",
       "    }\n",
       "\n",
       "    .dataframe tbody tr th {\n",
       "        vertical-align: top;\n",
       "    }\n",
       "\n",
       "    .dataframe thead th {\n",
       "        text-align: right;\n",
       "    }\n",
       "</style>\n",
       "<table border=\"1\" class=\"dataframe\">\n",
       "  <thead>\n",
       "    <tr style=\"text-align: right;\">\n",
       "      <th></th>\n",
       "      <th># Columns: time</th>\n",
       "      <th>avg_rss12</th>\n",
       "      <th>var_rss12</th>\n",
       "      <th>avg_rss13</th>\n",
       "      <th>var_rss13</th>\n",
       "      <th>avg_rss23</th>\n",
       "      <th>var_rss23</th>\n",
       "    </tr>\n",
       "  </thead>\n",
       "  <tbody>\n",
       "    <tr>\n",
       "      <th>0</th>\n",
       "      <td>0</td>\n",
       "      <td>42.00</td>\n",
       "      <td>0.71</td>\n",
       "      <td>21.25</td>\n",
       "      <td>0.43</td>\n",
       "      <td>30.00</td>\n",
       "      <td>0.00</td>\n",
       "    </tr>\n",
       "    <tr>\n",
       "      <th>1</th>\n",
       "      <td>250</td>\n",
       "      <td>41.50</td>\n",
       "      <td>0.50</td>\n",
       "      <td>20.25</td>\n",
       "      <td>1.48</td>\n",
       "      <td>31.25</td>\n",
       "      <td>1.09</td>\n",
       "    </tr>\n",
       "    <tr>\n",
       "      <th>2</th>\n",
       "      <td>500</td>\n",
       "      <td>41.50</td>\n",
       "      <td>0.50</td>\n",
       "      <td>14.25</td>\n",
       "      <td>1.92</td>\n",
       "      <td>33.00</td>\n",
       "      <td>0.00</td>\n",
       "    </tr>\n",
       "    <tr>\n",
       "      <th>3</th>\n",
       "      <td>750</td>\n",
       "      <td>40.75</td>\n",
       "      <td>0.83</td>\n",
       "      <td>15.75</td>\n",
       "      <td>0.43</td>\n",
       "      <td>33.00</td>\n",
       "      <td>0.00</td>\n",
       "    </tr>\n",
       "    <tr>\n",
       "      <th>4</th>\n",
       "      <td>1000</td>\n",
       "      <td>40.00</td>\n",
       "      <td>0.71</td>\n",
       "      <td>20.00</td>\n",
       "      <td>2.74</td>\n",
       "      <td>32.75</td>\n",
       "      <td>0.43</td>\n",
       "    </tr>\n",
       "    <tr>\n",
       "      <th>...</th>\n",
       "      <td>...</td>\n",
       "      <td>...</td>\n",
       "      <td>...</td>\n",
       "      <td>...</td>\n",
       "      <td>...</td>\n",
       "      <td>...</td>\n",
       "      <td>...</td>\n",
       "    </tr>\n",
       "    <tr>\n",
       "      <th>2395</th>\n",
       "      <td>118750</td>\n",
       "      <td>44.25</td>\n",
       "      <td>0.83</td>\n",
       "      <td>16.25</td>\n",
       "      <td>1.30</td>\n",
       "      <td>24.00</td>\n",
       "      <td>0.00</td>\n",
       "    </tr>\n",
       "    <tr>\n",
       "      <th>2396</th>\n",
       "      <td>119000</td>\n",
       "      <td>44.00</td>\n",
       "      <td>0.71</td>\n",
       "      <td>11.00</td>\n",
       "      <td>1.00</td>\n",
       "      <td>24.00</td>\n",
       "      <td>0.00</td>\n",
       "    </tr>\n",
       "    <tr>\n",
       "      <th>2397</th>\n",
       "      <td>119250</td>\n",
       "      <td>44.25</td>\n",
       "      <td>0.43</td>\n",
       "      <td>10.25</td>\n",
       "      <td>1.30</td>\n",
       "      <td>22.75</td>\n",
       "      <td>0.83</td>\n",
       "    </tr>\n",
       "    <tr>\n",
       "      <th>2398</th>\n",
       "      <td>119500</td>\n",
       "      <td>43.75</td>\n",
       "      <td>0.43</td>\n",
       "      <td>7.33</td>\n",
       "      <td>2.87</td>\n",
       "      <td>21.50</td>\n",
       "      <td>0.50</td>\n",
       "    </tr>\n",
       "    <tr>\n",
       "      <th>2399</th>\n",
       "      <td>119750</td>\n",
       "      <td>44.50</td>\n",
       "      <td>0.50</td>\n",
       "      <td>3.00</td>\n",
       "      <td>1.22</td>\n",
       "      <td>21.50</td>\n",
       "      <td>0.50</td>\n",
       "    </tr>\n",
       "  </tbody>\n",
       "</table>\n",
       "<p>2400 rows × 7 columns</p>\n",
       "</div>"
      ],
      "text/plain": [
       "      # Columns: time  avg_rss12  var_rss12  avg_rss13  var_rss13  avg_rss23  \\\n",
       "0                   0      42.00       0.71      21.25       0.43      30.00   \n",
       "1                 250      41.50       0.50      20.25       1.48      31.25   \n",
       "2                 500      41.50       0.50      14.25       1.92      33.00   \n",
       "3                 750      40.75       0.83      15.75       0.43      33.00   \n",
       "4                1000      40.00       0.71      20.00       2.74      32.75   \n",
       "...               ...        ...        ...        ...        ...        ...   \n",
       "2395           118750      44.25       0.83      16.25       1.30      24.00   \n",
       "2396           119000      44.00       0.71      11.00       1.00      24.00   \n",
       "2397           119250      44.25       0.43      10.25       1.30      22.75   \n",
       "2398           119500      43.75       0.43       7.33       2.87      21.50   \n",
       "2399           119750      44.50       0.50       3.00       1.22      21.50   \n",
       "\n",
       "      var_rss23  \n",
       "0          0.00  \n",
       "1          1.09  \n",
       "2          0.00  \n",
       "3          0.00  \n",
       "4          0.43  \n",
       "...         ...  \n",
       "2395       0.00  \n",
       "2396       0.00  \n",
       "2397       0.83  \n",
       "2398       0.50  \n",
       "2399       0.50  \n",
       "\n",
       "[2400 rows x 7 columns]"
      ]
     },
     "execution_count": 84,
     "metadata": {},
     "output_type": "execute_result"
    }
   ],
   "source": [
    "bending1"
   ]
  },
  {
   "cell_type": "code",
   "execution_count": 68,
   "id": "39aab001",
   "metadata": {},
   "outputs": [],
   "source": [
    "a = np.array([[1,2],[3,4]])\n",
    "b = np.array([[7,8],[9,0]])"
   ]
  },
  {
   "cell_type": "code",
   "execution_count": 89,
   "id": "61f64bf4",
   "metadata": {},
   "outputs": [
    {
     "data": {
      "text/plain": [
       "array([[0.0000e+00, 4.2000e+01, 7.1000e-01, ..., 4.3000e-01, 3.0000e+01,\n",
       "        0.0000e+00],\n",
       "       [2.5000e+02, 4.1500e+01, 5.0000e-01, ..., 1.4800e+00, 3.1250e+01,\n",
       "        1.0900e+00],\n",
       "       [5.0000e+02, 4.1500e+01, 5.0000e-01, ..., 1.9200e+00, 3.3000e+01,\n",
       "        0.0000e+00],\n",
       "       ...,\n",
       "       [1.1925e+05, 4.4330e+01, 9.4000e-01, ..., 0.0000e+00, 3.6330e+01,\n",
       "        4.7000e-01],\n",
       "       [1.1950e+05, 4.5250e+01, 4.3000e-01, ..., 1.7900e+00, 3.6000e+01,\n",
       "        0.0000e+00],\n",
       "       [1.1975e+05, 4.7250e+01, 8.3000e-01, ..., 4.3000e-01, 3.5250e+01,\n",
       "        1.3000e+00]])"
      ]
     },
     "execution_count": 89,
     "metadata": {},
     "output_type": "execute_result"
    }
   ],
   "source": [
    "np.array(pd.read_csv(title,skiprows = 4, usecols = [0,1,2,3,4,5,6]))"
   ]
  },
  {
   "cell_type": "code",
   "execution_count": 73,
   "id": "fc3e9b42",
   "metadata": {},
   "outputs": [],
   "source": [
    "c = np.dstack((c,b))"
   ]
  },
  {
   "cell_type": "code",
   "execution_count": 79,
   "id": "1bf8c668",
   "metadata": {},
   "outputs": [
    {
     "data": {
      "text/plain": [
       "array([[1, 2],\n",
       "       [3, 4]])"
      ]
     },
     "execution_count": 79,
     "metadata": {},
     "output_type": "execute_result"
    }
   ],
   "source": [
    "c[:,:,0]"
   ]
  },
  {
   "cell_type": "code",
   "execution_count": null,
   "id": "6270cb29",
   "metadata": {},
   "outputs": [],
   "source": []
  }
 ],
 "metadata": {
  "kernelspec": {
   "display_name": "Python 3",
   "language": "python",
   "name": "python3"
  },
  "language_info": {
   "codemirror_mode": {
    "name": "ipython",
    "version": 3
   },
   "file_extension": ".py",
   "mimetype": "text/x-python",
   "name": "python",
   "nbconvert_exporter": "python",
   "pygments_lexer": "ipython3",
   "version": "3.8.8"
  }
 },
 "nbformat": 4,
 "nbformat_minor": 5
}
